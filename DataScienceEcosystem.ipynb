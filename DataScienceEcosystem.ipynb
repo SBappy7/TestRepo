{
 "cells": [
  {
   "cell_type": "markdown",
   "id": "7b6ade00-67a7-43ec-9cdc-2e456d65c907",
   "metadata": {},
   "source": [
    "# Data Science Tools and Ecosystem123"
   ]
  },
  {
   "cell_type": "markdown",
   "id": "c08dfb3d-d935-48fe-beb2-13b6b6cecacc",
   "metadata": {},
   "source": [
    "#In this notebook, Data Science Tools and Ecosystem are summarized."
   ]
  },
  {
   "cell_type": "markdown",
   "id": "df1d8c9c-2397-4cf3-8c9f-9896a21f8dd2",
   "metadata": {},
   "source": [
    "#Some of the popular languages that Data Scientists use are:\n",
    "\n",
    "1. Python\n",
    "2. R\n",
    "3. SQL\n",
    "4. Julia\n",
    "5. Scala\n"
   ]
  },
  {
   "cell_type": "markdown",
   "id": "770996d8-0069-463b-8c38-b8c3fbd4a07c",
   "metadata": {},
   "source": [
    "Some of the commonly used libraries used by Data Scientists include:\n",
    "\n",
    "1. Pandas\n",
    "2. NumPy\n",
    "3. Matplotlib\n",
    "4. scikit-learn\n",
    "5. TensorFlow"
   ]
  },
  {
   "cell_type": "markdown",
   "id": "f11652f3-1acc-45aa-b9cb-03827c489a25",
   "metadata": {},
   "source": [
    "### Below are a few examples of evaluating arithmetic expressions in Python"
   ]
  },
  {
   "cell_type": "code",
   "execution_count": 6,
   "id": "b486f02c-b9d2-4502-9ac9-3abd0be7abde",
   "metadata": {},
   "outputs": [
    {
     "data": {
      "text/plain": [
       "17"
      ]
     },
     "execution_count": 6,
     "metadata": {},
     "output_type": "execute_result"
    }
   ],
   "source": [
    "# This a simple arithmetic expression to multiply then add integers\n",
    "(3*4)+5"
   ]
  },
  {
   "cell_type": "code",
   "execution_count": 7,
   "id": "7095de2d-98b8-451b-bebc-913c5c67a1bc",
   "metadata": {},
   "outputs": [
    {
     "data": {
      "text/plain": [
       "3.3333333333333335"
      ]
     },
     "execution_count": 7,
     "metadata": {},
     "output_type": "execute_result"
    }
   ],
   "source": [
    "# This will convert 200 minutes to hours by dividing by 60\n",
    "200 / 60"
   ]
  },
  {
   "cell_type": "markdown",
   "id": "2497150b-8079-444f-a0cb-ba9d8ce2764b",
   "metadata": {},
   "source": [
    "**Objectives:**\n",
    "- List popular languages for Data Science\n",
    "- List commonly used libraries in Data Science\n",
    "- Create tables using markdown\n",
    "- Perform arithmetic operations in Python\n",
    "- Share notebooks via GitHub"
   ]
  },
  {
   "cell_type": "markdown",
   "id": "27d7432a-2854-4130-a2af-49ac406f6853",
   "metadata": {},
   "source": [
    "## Author\n",
    "Symon\n"
   ]
  },
  {
   "cell_type": "code",
   "execution_count": null,
   "id": "ebda0ac0-c1d4-4d84-bacf-0e66fcbf699d",
   "metadata": {},
   "outputs": [],
   "source": []
  }
 ],
 "metadata": {
  "kernelspec": {
   "display_name": "Python 3 (ipykernel)",
   "language": "python",
   "name": "python3"
  },
  "language_info": {
   "codemirror_mode": {
    "name": "ipython",
    "version": 3
   },
   "file_extension": ".py",
   "mimetype": "text/x-python",
   "name": "python",
   "nbconvert_exporter": "python",
   "pygments_lexer": "ipython3",
   "version": "3.12.8"
  }
 },
 "nbformat": 4,
 "nbformat_minor": 5
}
